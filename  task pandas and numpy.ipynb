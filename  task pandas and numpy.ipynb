{
 "cells": [
  {
   "cell_type": "code",
   "execution_count": 22,
   "id": "d948e414",
   "metadata": {},
   "outputs": [],
   "source": [
    "import numpy as pn\n",
    "import pandas as pd"
   ]
  },
  {
   "cell_type": "code",
   "execution_count": 56,
   "id": "5a230eaa",
   "metadata": {},
   "outputs": [
    {
     "name": "stdout",
     "output_type": "stream",
     "text": [
      "    productA  productB\n",
      "0         25        40\n",
      "1         30        35\n",
      "2         28        38\n",
      "3         32        41\n",
      "4         26        37\n",
      "5         29        36\n",
      "6         27        39\n",
      "7         33        42\n",
      "8         31        38\n",
      "9         28        37\n",
      "10        30        40\n",
      "11        29        36\n"
     ]
    }
   ],
   "source": [
    "x ={'productA':[25,30,28,32,26,29,27,33,31,28,30,29],'productB':[40,35,38,41,37,36,39,42,38,37,40,36]}\n",
    "df = pd.DataFrame(x)\n",
    "print(df)"
   ]
  },
  {
   "cell_type": "code",
   "execution_count": 35,
   "id": "f19cccf4",
   "metadata": {},
   "outputs": [
    {
     "data": {
      "text/plain": [
       "productA    29.00\n",
       "productB    38.25\n",
       "dtype: float64"
      ]
     },
     "execution_count": 35,
     "metadata": {},
     "output_type": "execute_result"
    }
   ],
   "source": [
    "df.mean()"
   ]
  },
  {
   "cell_type": "markdown",
   "id": "fb1fed04",
   "metadata": {},
   "source": [
    " PRODUCTB has a highest value of average monthly sales."
   ]
  },
  {
   "cell_type": "markdown",
   "id": "aa049c19",
   "metadata": {},
   "source": [
    "### Find the median sales for each product and discuss how it reflects the central tendency of the sales distribution.\n"
   ]
  },
  {
   "cell_type": "code",
   "execution_count": 36,
   "id": "14d40c7b",
   "metadata": {},
   "outputs": [
    {
     "data": {
      "text/plain": [
       "productA    29.0\n",
       "productB    38.0\n",
       "dtype: float64"
      ]
     },
     "execution_count": 36,
     "metadata": {},
     "output_type": "execute_result"
    }
   ],
   "source": [
    "df.median()"
   ]
  },
  {
   "cell_type": "markdown",
   "id": "88130c7a",
   "metadata": {},
   "source": [
    "product HAS A higher median indcating that the sales distribution tends to be higher don average."
   ]
  },
  {
   "cell_type": "markdown",
   "id": "f5ee1c12",
   "metadata": {},
   "source": [
    "productb has a higher median , indiating the sales distibution hands to a higher on average"
   ]
  },
  {
   "cell_type": "markdown",
   "id": "b180ede9",
   "metadata": {},
   "source": [
    "3) ### Identify the mode of the sales data for both Product A and Product B. Discuss the significance of the mode in the context of these products.\n"
   ]
  },
  {
   "cell_type": "markdown",
   "id": "1b6ae7e6",
   "metadata": {},
   "source": [
    "\n",
    "significance of the mode"
   ]
  },
  {
   "cell_type": "code",
   "execution_count": 37,
   "id": "02f5d919",
   "metadata": {},
   "outputs": [
    {
     "data": {
      "text/html": [
       "<div>\n",
       "<style scoped>\n",
       "    .dataframe tbody tr th:only-of-type {\n",
       "        vertical-align: middle;\n",
       "    }\n",
       "\n",
       "    .dataframe tbody tr th {\n",
       "        vertical-align: top;\n",
       "    }\n",
       "\n",
       "    .dataframe thead th {\n",
       "        text-align: right;\n",
       "    }\n",
       "</style>\n",
       "<table border=\"1\" class=\"dataframe\">\n",
       "  <thead>\n",
       "    <tr style=\"text-align: right;\">\n",
       "      <th></th>\n",
       "      <th>productA</th>\n",
       "      <th>productB</th>\n",
       "    </tr>\n",
       "  </thead>\n",
       "  <tbody>\n",
       "    <tr>\n",
       "      <th>0</th>\n",
       "      <td>28.0</td>\n",
       "      <td>36</td>\n",
       "    </tr>\n",
       "    <tr>\n",
       "      <th>1</th>\n",
       "      <td>29.0</td>\n",
       "      <td>37</td>\n",
       "    </tr>\n",
       "    <tr>\n",
       "      <th>2</th>\n",
       "      <td>30.0</td>\n",
       "      <td>38</td>\n",
       "    </tr>\n",
       "    <tr>\n",
       "      <th>3</th>\n",
       "      <td>NaN</td>\n",
       "      <td>40</td>\n",
       "    </tr>\n",
       "  </tbody>\n",
       "</table>\n",
       "</div>"
      ],
      "text/plain": [
       "   productA  productB\n",
       "0      28.0        36\n",
       "1      29.0        37\n",
       "2      30.0        38\n",
       "3       NaN        40"
      ]
     },
     "execution_count": 37,
     "metadata": {},
     "output_type": "execute_result"
    }
   ],
   "source": [
    "df.mode()"
   ]
  },
  {
   "cell_type": "markdown",
   "id": "7ef47538",
   "metadata": {},
   "source": [
    "productA has  multiple modes,indicating thar there are multiple values accurring with the highest frequence\n",
    "product has multiple modes,indicating that there are multiple values occurring with the higherst frequency"
   ]
  },
  {
   "cell_type": "markdown",
   "id": "8e453352",
   "metadata": {},
   "source": [
    "4)Calculate the weighted mean of the sales data, assuming each month has an equal weight. Discuss any implications of using weighted mean in this context.\n",
    "\n"
   ]
  },
  {
   "cell_type": "markdown",
   "id": "6fcdffdf",
   "metadata": {},
   "source": [
    "product has multiple modes ,indicating that there are multile values occurring with highest frequency."
   ]
  },
  {
   "cell_type": "code",
   "execution_count": 38,
   "id": "28e497f4",
   "metadata": {},
   "outputs": [],
   "source": [
    "wa = (df['productA'] * (1/len(df))).sum()\n",
    "wb = (df['productB']*(1/len(df))).sum()"
   ]
  },
  {
   "cell_type": "code",
   "execution_count": 39,
   "id": "4e790258",
   "metadata": {},
   "outputs": [
    {
     "name": "stdout",
     "output_type": "stream",
     "text": [
      "28.999999999999996\n",
      "38.25\n"
     ]
    }
   ],
   "source": [
    "print(wa)\n",
    "print(wb)"
   ]
  },
  {
   "cell_type": "markdown",
   "id": "00162e13",
   "metadata": {},
   "source": [
    "## Measures of Dispersion:Compute the range of monthly sales for both Product A and Product B. Discuss how the range provides insights into the varia"
   ]
  },
  {
   "cell_type": "markdown",
   "id": "305c95f1",
   "metadata": {},
   "source": [
    "range of product A"
   ]
  },
  {
   "cell_type": "code",
   "execution_count": 43,
   "id": "4f52adc7",
   "metadata": {},
   "outputs": [
    {
     "name": "stdout",
     "output_type": "stream",
     "text": [
      "    productA  productB\n",
      "0         25        40\n",
      "1         30        35\n",
      "2         28        38\n",
      "3         32        41\n",
      "4         26        37\n",
      "5         29        36\n",
      "6         27        39\n",
      "7         33        42\n",
      "8         31        38\n",
      "9         28        37\n",
      "10        30        40\n",
      "11        29        36\n"
     ]
    }
   ],
   "source": [
    "x ={'productA':[25,30,28,32,26,29,27,33,31,28,30,29], 'productB':[40,35,38,41,37,36,39,42,38,37,40,36]}\n",
    "df = pd.DataFrame(x)\n",
    "print(df)"
   ]
  },
  {
   "cell_type": "code",
   "execution_count": 79,
   "id": "12b86366",
   "metadata": {},
   "outputs": [
    {
     "name": "stdout",
     "output_type": "stream",
     "text": [
      "Range for productA = 8\n",
      "Range for productB = 7\n"
     ]
    }
   ],
   "source": [
    "data = {'productA': [25, 30, 28, 32, 26, 29, 27, 33, 31, 28, 30, 29], 'productB': [40, 35, 38, 41, 37, 36, 39, 42, 38, 37, 40, 36]}\n",
    "df = pd.DataFrame(data)\n",
    "p = df['productA'].max() - df['productA'].min()\n",
    "b = df['productB'].max() - df['productB'].min()\n",
    "\n",
    "print(\"Range for productA =\", p)\n",
    "print(\"Range for productB =\", b)\n"
   ]
  },
  {
   "cell_type": "markdown",
   "id": "27cd1324",
   "metadata": {},
   "source": [
    "2. Calculate the variance of the sales data for both products. Discuss what the variance reveals about the spread of sales for each product.\n",
    "variance for product A"
   ]
  },
  {
   "cell_type": "code",
   "execution_count": 80,
   "id": "a30723c7",
   "metadata": {},
   "outputs": [
    {
     "name": "stdout",
     "output_type": "stream",
     "text": [
      "Variance for productA: 5.166666666666667\n"
     ]
    }
   ],
   "source": [
    "data = {'productA': [25, 30, 28, 32, 26, 29, 27, 33, 31, 28, 30, 29]}\n",
    "df = pd.DataFrame(data)\n",
    "\n",
    "\n",
    "var_A = np.var(df['productA'])\n",
    "\n",
    "print(\"Variance for productA:\", var_A)\n"
   ]
  },
  {
   "cell_type": "code",
   "execution_count": 83,
   "id": "ea57f8a3",
   "metadata": {},
   "outputs": [
    {
     "name": "stdout",
     "output_type": "stream",
     "text": [
      "varience for productB 4.354166666666667\n"
     ]
    }
   ],
   "source": [
    "data = {'productB': [40, 35, 38, 41, 37, 36, 39, 42, 38, 37, 40, 36]}\n",
    "df = pd.DataFrame(data)\n",
    "var_B = np.var(df['productB'])\n",
    "print(\"varience for productB\",var_B)"
   ]
  },
  {
   "cell_type": "markdown",
   "id": "1c971aff",
   "metadata": {},
   "source": [
    "3. Determine the standard deviation of the sales for Product A and Product B. Discuss the significance of standard deviation in understanding the variability in sales.\n"
   ]
  },
  {
   "cell_type": "markdown",
   "id": "62ebbb7a",
   "metadata": {},
   "source": [
    "standard deviation for Product A and standard devilation for product B"
   ]
  },
  {
   "cell_type": "code",
   "execution_count": 109,
   "id": "692957ed",
   "metadata": {},
   "outputs": [
    {
     "name": "stdout",
     "output_type": "stream",
     "text": [
      "Standard Deviation for productA: (2.273030282830976,)\n",
      "Standard Deviation for productB: 2.0866640042581523\n"
     ]
    }
   ],
   "source": [
    "\n",
    "\n",
    "data = {'productA': [25, 30, 28, 32, 26, 29, 27, 33, 31, 28, 30, 29],'productB': [40, 35, 38, 41, 37, 36, 39, 42, 38, 37, 40, 36]}\n",
    "\n",
    "\n",
    "std_dev_productA = np.std(data['productA']),\n",
    "std_dev_productB = np.std(data['productB'])\n",
    "\n",
    "print(\"Standard Deviation for productA:\", std_dev_productA)\n",
    "print(\"Standard Deviation for productB:\", std_dev_productB)"
   ]
  },
  {
   "cell_type": "markdown",
   "id": "db974529",
   "metadata": {},
   "source": [
    "3. Determine the standard deviation of the sales for Product A and Product B. Discuss the significance of standard deviation in understanding the variability in sales."
   ]
  },
  {
   "cell_type": "markdown",
   "id": "ca252919",
   "metadata": {},
   "source": [
    "Relative Measures of Dispersion:"
   ]
  },
  {
   "cell_type": "code",
   "execution_count": 112,
   "id": "0ec747e2",
   "metadata": {},
   "outputs": [
    {
     "name": "stdout",
     "output_type": "stream",
     "text": [
      "Standard Deviation of productA: 2.273030282830976\n",
      "Standard Deviation of productB: 2.0866640042581523\n"
     ]
    }
   ],
   "source": [
    "\n",
    "data = { 'productA': [25, 30, 28, 32, 26, 29, 27, 33, 31, 28, 30, 29],'productB': [40, 35, 38, 41, 37, 36, 39, 42, 38, 37, 40, 36]}\n",
    "\n",
    "std_dev_A = np.std(data['productA'])\n",
    "std_dev_B = np.std(data['productB'])\n",
    "\n",
    "print(\"Standard Deviation of productA:\", std_dev_A)\n",
    "print(\"Standard Deviation of productB:\", std_dev_B) ####Standard Deviation(s)= squareVariance\n",
    "\n"
   ]
  },
  {
   "cell_type": "markdown",
   "id": "93f76d13",
   "metadata": {},
   "source": [
    "1) Calculate the coefficient of variation for the sales data of Product A and productB. Discuss how this relative measure of dispersion helps in comparing the variability of products with different average sales."
   ]
  },
  {
   "cell_type": "markdown",
   "id": "97eae75a",
   "metadata": {},
   "source": [
    "Coefficient of Variation of product A"
   ]
  },
  {
   "cell_type": "code",
   "execution_count": 101,
   "id": "c6947de6",
   "metadata": {},
   "outputs": [
    {
     "name": "stdout",
     "output_type": "stream",
     "text": [
      "Coefficient of Variation for Product A: 7.838035458037848\n"
     ]
    }
   ],
   "source": [
    "\n",
    "data_productA = [25, 30, 28, 32, 26, 29, 27, 33, 31, 28, 30, 29],\n",
    "\n",
    "mean_productA = np.mean(data_productA)\n",
    "std_dev_productA = np.std(data_productA)\n",
    "\n",
    "cv_productA = (std_dev_productA / mean_productA) * 100 ### coffient formala\n",
    "\n",
    "print(\"Coefficient of Variation for Product A:\", cv_productA)\n"
   ]
  },
  {
   "cell_type": "markdown",
   "id": "b6a034c2",
   "metadata": {},
   "source": [
    "Coefficient of Variation of product B"
   ]
  },
  {
   "cell_type": "code",
   "execution_count": 108,
   "id": "cef681da",
   "metadata": {},
   "outputs": [
    {
     "name": "stdout",
     "output_type": "stream",
     "text": [
      "Coefficient of Variation for Product B: 5.455330730086673\n"
     ]
    }
   ],
   "source": [
    "data_productB =  [40, 35, 38, 41, 37, 36, 39, 42, 38, 37, 40, 36]\n",
    "\n",
    "\n",
    "mean_productB = np.mean(data_productB)\n",
    "std_dev_productB = np.std(data_productB)\n",
    "\n",
    "cv_productB = (std_dev_productB / mean_productB) * 100 ### coffient formala\n",
    "\n",
    "print(\"Coefficient of Variation for Product B:\", cv_productB)"
   ]
  },
  {
   "cell_type": "markdown",
   "id": "c039952c",
   "metadata": {},
   "source": [
    "2. Compute the relative range for Product A  and product B. Discuss how the relative range accounts for the scale of the sales data.\n",
    "Relative Range of product B"
   ]
  },
  {
   "cell_type": "code",
   "execution_count": 103,
   "id": "3bc00c07",
   "metadata": {},
   "outputs": [
    {
     "name": "stdout",
     "output_type": "stream",
     "text": [
      "Relative Range for Product A: 27.586206896551722\n"
     ]
    }
   ],
   "source": [
    "data_productA = [25, 30, 28, 32, 26, 29, 27, 33, 31, 28, 30, 29]\n",
    "\n",
    "\n",
    "data_range_productA = np.ptp(data_productA)  \n",
    "mean_productA = np.mean(data_productA)\n",
    "\n",
    "\n",
    "relative_range_productA = (data_range_productA / mean_productA) * 100\n",
    "\n",
    "print(\"Relative Range for Product A:\", relative_range_productA)\n"
   ]
  },
  {
   "cell_type": "code",
   "execution_count": 104,
   "id": "aaab63b7",
   "metadata": {},
   "outputs": [
    {
     "name": "stdout",
     "output_type": "stream",
     "text": [
      "Relative Range for Product B: 18.30065359477124\n"
     ]
    }
   ],
   "source": [
    "data_productB =  [40, 35, 38, 41, 37, 36, 39, 42, 38, 37, 40, 36]\n",
    "\n",
    "data_range_productB = np.ptp(data_productB)  \n",
    "mean_productB = np.mean(data_productB)\n",
    "\n",
    "\n",
    "relative_range_productB = (data_range_productB / mean_productB) * 100\n",
    "\n",
    "print(\"Relative Range for Product B:\", relative_range_productB)\n"
   ]
  },
  {
   "cell_type": "code",
   "execution_count": null,
   "id": "88df902e",
   "metadata": {},
   "outputs": [],
   "source": []
  }
 ],
 "metadata": {
  "kernelspec": {
   "display_name": "Python 3 (ipykernel)",
   "language": "python",
   "name": "python3"
  },
  "language_info": {
   "codemirror_mode": {
    "name": "ipython",
    "version": 3
   },
   "file_extension": ".py",
   "mimetype": "text/x-python",
   "name": "python",
   "nbconvert_exporter": "python",
   "pygments_lexer": "ipython3",
   "version": "3.11.5"
  }
 },
 "nbformat": 4,
 "nbformat_minor": 5
}
